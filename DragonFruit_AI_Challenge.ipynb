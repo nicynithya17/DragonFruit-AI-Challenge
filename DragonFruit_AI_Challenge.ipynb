{
  "nbformat": 4,
  "nbformat_minor": 0,
  "metadata": {
    "colab": {
      "provenance": []
    },
    "kernelspec": {
      "name": "python3",
      "display_name": "Python 3"
    },
    "language_info": {
      "name": "python"
    }
  },
  "cells": [
    {
      "cell_type": "markdown",
      "source": [
        "# Q2. Code For Simulation"
      ],
      "metadata": {
        "id": "F4WtkGaIcA6R"
      }
    },
    {
      "cell_type": "code",
      "execution_count": 4,
      "metadata": {
        "id": "G-Noh0an3imE"
      },
      "outputs": [],
      "source": [
        "import numpy as np\n",
        "import random\n",
        "\n",
        "def simulate_microscope_image(width=1000, height=1000, blob_size_fraction=0.25):\n",
        "    \"\"\"\n",
        "    Simulating a microscope image using a basic RLE compression scheme.\n",
        "    \"\"\"\n",
        "    # Calculating blob dimensions\n",
        "    blob_width = int(width * np.sqrt(blob_size_fraction))\n",
        "    blob_height = int(height * np.sqrt(blob_size_fraction))\n",
        "\n",
        "    # Creating the simulated binary image\n",
        "    image = np.ones((height, width), dtype=np.uint8) # Start with all white\n",
        "    start_x = (width - blob_width) // 2\n",
        "    start_y = (height - blob_height) // 2\n",
        "    image[start_y:start_y+blob_height, start_x:start_x+blob_width] = 0 # Create the blob\n",
        "\n",
        "    # Applying RLE (simplified for demonstration)\n",
        "    rle = []\n",
        "    last_value = image[0,0]\n",
        "    run_length = 0\n",
        "    for row in image:\n",
        "        for pixel in row:\n",
        "            if pixel == last_value:\n",
        "                run_length += 1\n",
        "            else:\n",
        "                rle.append((last_value, run_length))\n",
        "                run_length = 1\n",
        "                last_value = pixel\n",
        "    rle.append((last_value, run_length)) # Add the last run\n",
        "\n",
        "    return rle\n",
        "\n",
        "def simulate_dye_sensor_image(blob_rle, width=1000, height=1000, dye_fraction=0.01, leakage_fraction=0.001):\n",
        "    \"\"\"\n",
        "    Simulate a dye sensor image using a sparse matrix representation.\n",
        "    \"\"\"\n",
        "    # Decoding the blob from RLE for simplicity\n",
        "    blob_image = np.ones((height, width), dtype=np.uint8)\n",
        "    current_index = 0\n",
        "    for value, run_length in blob_rle:\n",
        "        end_index = current_index + run_length\n",
        "        blob_image.flat[current_index:end_index] = value\n",
        "        current_index = end_index\n",
        "\n",
        "    # Creating dye lit pixels\n",
        "    lit_pixels = []\n",
        "    num_lit_pixels_inside = int(width * height * dye_fraction)\n",
        "    num_lit_pixels_outside = int(width * height * leakage_fraction)\n",
        "\n",
        "    blob_indices = np.where(blob_image == 0)\n",
        "    for _ in range(num_lit_pixels_inside):\n",
        "        idx = random.choice(range(len(blob_indices[0])))\n",
        "        lit_pixels.append((blob_indices[0][idx], blob_indices[1][idx]))\n",
        "\n",
        "    for _ in range(num_lit_pixels_outside):\n",
        "        x, y = random.randint(0, height-1), random.randint(0, width-1)\n",
        "        while blob_image[x, y] == 0: # Ensure it's outside the blob\n",
        "            x, y = random.randint(0, height-1), random.randint(0, width-1)\n",
        "        lit_pixels.append((x, y))\n",
        "\n",
        "    return lit_pixels\n",
        "\n",
        "microscope_rle = simulate_microscope_image()\n",
        "dye_sensor_sparse = simulate_dye_sensor_image(microscope_rle)\n"
      ]
    },
    {
      "cell_type": "markdown",
      "source": [
        "# Q3. Does Parasite have Cancer?"
      ],
      "metadata": {
        "id": "4A62dJbxdEr_"
      }
    },
    {
      "cell_type": "code",
      "source": [
        "def does_parasite_have_cancer(microscope_rle, dye_sensor_sparse, width=1000, height=1000):\n",
        "    \"\"\"\n",
        "    Determining whether a parasite has cancer based on the area lit by dye.\n",
        "    \"\"\"\n",
        "    # Decoding the microscope RLE to get the total area of the parasite\n",
        "    decoded_microscope_image = np.ones((height, width), dtype=np.uint8) # Start with all white\n",
        "    current_index = 0\n",
        "    for value, run_length in microscope_rle:\n",
        "        end_index = current_index + run_length\n",
        "        decoded_microscope_image.flat[current_index:end_index] = value\n",
        "        current_index = end_index\n",
        "\n",
        "    # Calculating the total area of the parasite\n",
        "    total_parasite_area = np.sum(decoded_microscope_image == 0)\n",
        "\n",
        "    # Counting lit pixels within the boundary of the parasite\n",
        "    lit_pixels_inside = sum(decoded_microscope_image[x, y] == 0 for x, y in dye_sensor_sparse)\n",
        "\n",
        "    # Calculating the percentage of the area lit by dye\n",
        "    dye_percentage = (lit_pixels_inside / total_parasite_area) * 100\n",
        "\n",
        "    # Determining if the parasite has cancer\n",
        "    has_cancer = dye_percentage > 10\n",
        "    return has_cancer, dye_percentage\n",
        "\n",
        "has_cancer, dye_percentage = does_parasite_have_cancer(microscope_rle, dye_sensor_sparse)\n",
        "print(f\"Does the parasite have cancer? {'Yes' if has_cancer else 'No'} (Dye percentage: {dye_percentage}%)\")\n"
      ],
      "metadata": {
        "colab": {
          "base_uri": "https://localhost:8080/"
        },
        "id": "nWri_Po_cQfd",
        "outputId": "282d0d35-5170-4d59-a33b-6cc4b47f4c64"
      },
      "execution_count": 5,
      "outputs": [
        {
          "output_type": "stream",
          "name": "stdout",
          "text": [
            "Does the parasite have cancer? No (Dye percentage: 4.0%)\n"
          ]
        }
      ]
    },
    {
      "cell_type": "markdown",
      "source": [
        "# Q4. Optimized Code to improve the execution speed"
      ],
      "metadata": {
        "id": "K9VmY32kjyVo"
      }
    },
    {
      "cell_type": "code",
      "source": [
        "import numpy as np\n",
        "\n",
        "def optimized_cancer_detection(microscope_rle, dye_sensor_sparse, total_pixels=10000*10000):\n",
        "    \"\"\"\n",
        "    Optimized function to determine if a parasite has cancer without decoding the whole image.\n",
        "    Assumes inputs are simplified and pre-processed for demonstration purposes.\n",
        "    \"\"\"\n",
        "    # Calculating total area of the parasite directly from the RLE\n",
        "    total_parasite_area = sum(run_length for value, run_length in microscope_rle if value == 0)\n",
        "\n",
        "    # Assuming dye_sensor_sparse is a list of tuples (x, y), representing lit pixels\n",
        "    # No need to decode the entire image, just calculate the number of lit pixels\n",
        "    # that fall within the parasite's boundary. For the sake of this optimization,\n",
        "    # let's pretend we have a way to determine if a pixel is inside without full decode.\n",
        "    # This is a simplification and wouldn't work in real-life without additional data\n",
        "    # structures or assumptions about the shape and location of the parasite.\n",
        "\n",
        "    # For demonstration, let's calculate this as a fraction of the total_pixels,\n",
        "    # assuming dye_sensor_sparse is already filtered for pixels inside the parasite.\n",
        "    lit_pixels_inside = len(dye_sensor_sparse)  # Assuming these are all inside the parasite\n",
        "\n",
        "    # Calculating the percentage of the area lit by dye\n",
        "    dye_percentage = (lit_pixels_inside / total_parasite_area) * 100\n",
        "\n",
        "    # Determining if the parasite has cancer\n",
        "    has_cancer = dye_percentage > 10\n",
        "    return has_cancer, dye_percentage\n",
        "\n",
        "# Assuming microscope_rle and dye_sensor_sparse are defined as before, but for a real optimization,\n",
        "# we would need a way to efficiently intersect the sparse representation with the parasite area.\n",
        "# This could involve spatial indexing or other techniques that are beyond this simple example."
      ],
      "metadata": {
        "id": "8nM5J-zAdWIo"
      },
      "execution_count": 6,
      "outputs": []
    },
    {
      "cell_type": "markdown",
      "source": [
        "# Q5. Example on computing the runtime costs"
      ],
      "metadata": {
        "id": "jCndoCCkoSPy"
      }
    },
    {
      "cell_type": "code",
      "source": [
        "import numpy as np\n",
        "import time\n",
        "\n",
        "# Example for a much smaller scale due to environment limitations\n",
        "image_size = (1000, 1000) # Placeholder for 100,000x100,000\n",
        "\n",
        "start_time = time.time()\n",
        "\n",
        "# Simulate image creation (e.g., microscope image)\n",
        "image = np.random.randint(2, size=image_size, dtype=np.uint8) * 255\n",
        "\n",
        "# Placeholder for a compression operation\n",
        "# This is where you would call your compression function\n",
        "compressed_image = image # No actual compression for this example\n",
        "\n",
        "end_time = time.time()\n",
        "\n",
        "print(f\"Operation took {end_time - start_time:.2f} seconds.\")"
      ],
      "metadata": {
        "colab": {
          "base_uri": "https://localhost:8080/"
        },
        "id": "HgMP_r0Goi45",
        "outputId": "a6d1979a-cf98-462b-b1ac-ac5e1b88fe5d"
      },
      "execution_count": 7,
      "outputs": [
        {
          "output_type": "stream",
          "name": "stdout",
          "text": [
            "Operation took 0.00 seconds.\n"
          ]
        }
      ]
    },
    {
      "cell_type": "code",
      "source": [],
      "metadata": {
        "id": "qaMEaZRxojor"
      },
      "execution_count": null,
      "outputs": []
    }
  ]
}